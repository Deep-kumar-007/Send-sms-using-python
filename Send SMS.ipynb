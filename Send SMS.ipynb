{
 "cells": [
  {
   "cell_type": "code",
   "execution_count": 4,
   "id": "951b218e",
   "metadata": {},
   "outputs": [
    {
     "name": "stdout",
     "output_type": "stream",
     "text": [
      "SMS sent successfully!\n",
      "Message SID: SM60a3629c9aca5ed9f07184cf1305f275\n"
     ]
    }
   ],
   "source": [
    "import twilio\n",
    "from twilio.rest import Client\n",
    "\n",
    "account_sid = 'AC247de1d3e0c06a9066da21cc94a7f703'\n",
    "auth_token = 'e81d0c571975b30fb525e36fbf615436'\n",
    "\n",
    "client = Client(account_sid, auth_token)\n",
    "\n",
    "def send_sms(to_number, message):\n",
    "    try:\n",
    "        message = client.messages.create(\n",
    "            body=message,\n",
    "            from_='+14705708450',\n",
    "            to=to_number\n",
    "        )\n",
    "        print(\"SMS sent successfully!\")\n",
    "        print(\"Message SID:\", message.sid)\n",
    "    except Exception as e:\n",
    "        print(\"Error sending SMS:\", str(e))\n",
    "\n",
    "recipient_number = '+918824610711'  \n",
    "sms_message = 'Hello from Twilio! Hello! How are you.'\n",
    "\n",
    "send_sms(recipient_number, sms_message)"
   ]
  },
  {
   "cell_type": "code",
   "execution_count": null,
   "id": "1e749cad",
   "metadata": {},
   "outputs": [],
   "source": []
  }
 ],
 "metadata": {
  "kernelspec": {
   "display_name": "Python 3 (ipykernel)",
   "language": "python",
   "name": "python3"
  },
  "language_info": {
   "codemirror_mode": {
    "name": "ipython",
    "version": 3
   },
   "file_extension": ".py",
   "mimetype": "text/x-python",
   "name": "python",
   "nbconvert_exporter": "python",
   "pygments_lexer": "ipython3",
   "version": "3.10.9"
  }
 },
 "nbformat": 4,
 "nbformat_minor": 5
}
